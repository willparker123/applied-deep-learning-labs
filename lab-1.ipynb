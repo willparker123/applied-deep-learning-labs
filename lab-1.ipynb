{
  "nbformat": 4,
  "nbformat_minor": 0,
  "metadata": {
    "colab": {
      "name": "Untitled0.ipynb",
      "private_outputs": true,
      "provenance": [],
      "collapsed_sections": [],
      "authorship_tag": "ABX9TyPaNUSGI32m/zPkqpfW2AcJ",
      "include_colab_link": true
    },
    "kernelspec": {
      "name": "python3",
      "display_name": "Python 3"
    },
    "language_info": {
      "name": "python"
    },
    "accelerator": "GPU"
  },
  "cells": [
    {
      "cell_type": "markdown",
      "metadata": {
        "id": "view-in-github",
        "colab_type": "text"
      },
      "source": [
        "<a href=\"https://colab.research.google.com/github/willparker123/applied-deep-learning-labs/blob/master/lab-1.ipynb\" target=\"_parent\"><img src=\"https://colab.research.google.com/assets/colab-badge.svg\" alt=\"Open In Colab\"/></a>"
      ]
    },
    {
      "cell_type": "markdown",
      "metadata": {
        "id": "gXpasdqFo3Jg"
      },
      "source": [
        "# **Pytorch and Numpy**"
      ]
    },
    {
      "cell_type": "code",
      "metadata": {
        "id": "E1EjufH1omSl"
      },
      "source": [
        "import torch\n",
        "import numpy as np\n",
        "\n",
        "array_np = np.array([[1, 2, 3],\n",
        "                     [4, 5, 6]])\n",
        "array_pytorch = torch.tensor([[1, 2, 3],\n",
        "                              [4, 5, 6]])\n",
        "x = torch.tensor([1, 2, 3], dtype=torch.float32)\n",
        "y = torch.tensor([4, 5, 6], dtype=torch.float32)\n",
        "\n",
        "print(array_np)\n",
        "print(array_pytorch)\n",
        "print(x.shape, x.dim())\n",
        "#elementwise; x+y, x/y, x*y\n",
        "#returns tensor; torch.dot(x, y), x.mean(), x.std(), x.max(), x.argmax()\n",
        "#to get item from tensor; torch.dot(x, y).item()\n",
        "#to remove dimensions of size 1; x.squeeze()\n",
        "#to add back dimensions of size 1 plus a new size-1 dimension at index 4; x.unsqueeze(dim=4)\n",
        "print(torch.arange(0, 9).reshape((3, 3)))\n",
        "print(x @ y)\n",
        "print(torch.randn((2, 3)))\n",
        "print(x.reshape((3, 1)))\n",
        "#y = x.reshape(3, 1), y[0,0]=1 will change x"
      ],
      "execution_count": null,
      "outputs": []
    },
    {
      "cell_type": "markdown",
      "metadata": {
        "id": "K6pWi6R_IPR6"
      },
      "source": [
        "# **Fully-Connected Network**\n",
        "## **Data Processing**"
      ]
    },
    {
      "cell_type": "code",
      "metadata": {
        "id": "UsUR-3nPoxtt"
      },
      "source": [
        "import torch\n",
        "import numpy as np\n",
        "from sklearn import datasets\n",
        "%matplotlib inline\n",
        "import seaborn as sns\n",
        "import pandas as pd\n",
        "from sklearn.model_selection import train_test_split\n",
        "\n",
        "iris = datasets.load_iris()  # datasets are stored in a dictionary containing an array of features and targets\n",
        "print(iris.keys())\n",
        "print(f'Data (first 15): {iris['data'][:15]}, Features: {iris['feature_names']}')\n",
        "print(f'Classes: {np.unique(iris['target'])}, Class Names: {iris['target_names']}')\n",
        "\n",
        "#show pairplot of features\n",
        "features_df = pd.DataFrame(\n",
        "    iris['data'],\n",
        "    columns=iris['feature_names']\n",
        ")\n",
        "features_df['label'] = iris['target_names'][iris['target']]\n",
        "sns.pairplot(features_df, hue='label')\n",
        "\n",
        "#normalisation\n",
        "preprocessed_features = (iris['data'] - iris['data'].mean(axis=0)) / iris['data'].std(axis=0)\n",
        "\n",
        "#shuffling - train/test set\n",
        "labels = iris['target']\n",
        "# train_test_split takes care of the shuffling and splitting process\n",
        "train_features, test_features, train_labels, test_labels = train_test_split(preprocessed_features, labels, test_size=1/3)\n",
        "#convert to tensors\n",
        "features = {\n",
        "    'train': torch.tensor(train_features, dtype=torch.float32),\n",
        "    'test': torch.tensor(test_features, dtype=torch.float32),\n",
        "}\n",
        "labels = {\n",
        "    'train': torch.tensor(train_labels, dtype=torch.long),\n",
        "    'test': torch.tensor(test_labels, dtype=torch.long),\n",
        "}"
      ],
      "execution_count": null,
      "outputs": []
    },
    {
      "cell_type": "markdown",
      "metadata": {
        "id": "mUMp99FlKEtA"
      },
      "source": [
        "## **MLP**"
      ]
    },
    {
      "cell_type": "code",
      "metadata": {
        "id": "i6ipBXzQKJI8"
      },
      "source": [
        "from torch import nn\n",
        "from torch.nn import functional as F\n",
        "from typing import Callable\n",
        "\n",
        "\n",
        "class MLP(nn.Module):\n",
        "    def __init__(self,\n",
        "                 input_size: int,\n",
        "                 hidden_layer_size: int,\n",
        "                 output_size: int,\n",
        "                 activation_fn: Callable[[torch.Tensor], torch.Tensor] = F.relu):\n",
        "        super().__init__()\n",
        "        self.l1 = nn.Linear(input_size, hidden_layer_size)\n",
        "        self.l2 = nn.Linear(hidden_layer_size, output_size)\n",
        "        self.activation_fn = activation_fn\n",
        "        \n",
        "    def forward(self, inputs: torch.Tensor) -> torch.Tensor:\n",
        "        x = self.l1(inputs)\n",
        "        x = self.activation_fn(x)\n",
        "        x = self.l2(x)\n",
        "        return x\n",
        "\n",
        "feature_count = 4\n",
        "hidden_layer_size = 100\n",
        "class_count = 3\n",
        "model = MLP(feature_count, hidden_layer_size, class_count)"
      ],
      "execution_count": null,
      "outputs": []
    }
  ]
}