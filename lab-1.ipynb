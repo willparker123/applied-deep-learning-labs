{
  "nbformat": 4,
  "nbformat_minor": 0,
  "metadata": {
    "colab": {
      "name": "Untitled0.ipynb",
      "private_outputs": true,
      "provenance": [],
      "collapsed_sections": [],
      "authorship_tag": "ABX9TyPyZjRXNqVe2x8fZzSBWuvr",
      "include_colab_link": true
    },
    "kernelspec": {
      "name": "python3",
      "display_name": "Python 3"
    },
    "language_info": {
      "name": "python"
    },
    "accelerator": "GPU"
  },
  "cells": [
    {
      "cell_type": "markdown",
      "metadata": {
        "id": "view-in-github",
        "colab_type": "text"
      },
      "source": [
        "<a href=\"https://colab.research.google.com/github/willparker123/applied-deep-learning-labs/blob/master/lab-1.ipynb\" target=\"_parent\"><img src=\"https://colab.research.google.com/assets/colab-badge.svg\" alt=\"Open In Colab\"/></a>"
      ]
    },
    {
      "cell_type": "markdown",
      "metadata": {
        "id": "gXpasdqFo3Jg"
      },
      "source": [
        "# **Pytorch and Numpy**"
      ]
    },
    {
      "cell_type": "code",
      "metadata": {
        "id": "E1EjufH1omSl"
      },
      "source": [
        "import torch\n",
        "import numpy as np\n",
        "\n",
        "array_np = np.array([[1, 2, 3],\n",
        "                     [4, 5, 6]])\n",
        "array_pytorch = torch.tensor([[1, 2, 3],\n",
        "                              [4, 5, 6]])\n",
        "x = torch.tensor([1, 2, 3], dtype=torch.float32)\n",
        "y = torch.tensor([4, 5, 6], dtype=torch.float32)\n",
        "\n",
        "print(array_np)\n",
        "print(array_pytorch)"
      ],
      "execution_count": null,
      "outputs": []
    },
    {
      "cell_type": "code",
      "metadata": {
        "id": "UsUR-3nPoxtt"
      },
      "source": [
        ""
      ],
      "execution_count": null,
      "outputs": []
    }
  ]
}